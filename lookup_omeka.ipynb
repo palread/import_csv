{
 "cells": [
  {
   "cell_type": "markdown",
   "metadata": {},
   "source": [
    "# Omeka Lookup"
   ]
  },
  {
   "cell_type": "markdown",
   "metadata": {},
   "source": [
    "## Imports"
   ]
  },
  {
   "cell_type": "code",
   "execution_count": null,
   "metadata": {},
   "outputs": [],
   "source": [
    "!pip install pandas\n",
    "!pip install requests\n",
    "!pip install numpy"
   ]
  },
  {
   "cell_type": "code",
   "execution_count": 1,
   "metadata": {},
   "outputs": [],
   "source": [
    "import requests\n",
    "import json\n",
    "import csv\n",
    "import pandas as pd\n",
    "from IPython.display import HTML\n",
    "import base64\n",
    "from datetime import datetime\n",
    "import ssl\n",
    "## Use this to fix error \"SSL: CERTIFICATE_VERIFY_FAILED\" \n",
    "ssl._create_default_https_context = ssl._create_unverified_context"
   ]
  },
  {
   "cell_type": "markdown",
   "metadata": {},
   "source": [
    "## Omeka Adress \n",
    "### Note: the user should define this section"
   ]
  },
  {
   "cell_type": "code",
   "execution_count": 89,
   "metadata": {},
   "outputs": [],
   "source": [
    "OMEKA_BASE_URL = \"http://160.45.15.183/omeka-s/\""
   ]
  },
  {
   "cell_type": "markdown",
   "metadata": {},
   "source": [
    "## Config params \n",
    "### Note: only the configurer should define this section"
   ]
  },
  {
   "cell_type": "code",
   "execution_count": 94,
   "metadata": {},
   "outputs": [],
   "source": [
    "OMEKA_BASE_API = OMEKA_BASE_URL + \"api/\"\n",
    "OMAKE_API_ITEMS = OMEKA_BASE_API + \"items\"\n",
    "OMEKA_VOCAB_MAP = {\n",
    "    \"Person\": {\"resource_template_id\": 13, \"property_id\": 245},\n",
    "    \"Periodical\": {\"resource_template_id\": 12, \"property_id\": 242},\n",
    "    \"Article\": {\"resource_template_id\": 3, \"property_id\": 242},\n",
    "    \"Book\": {\"resource_template_id\": 4, \"property_id\": 242}\n",
    "    #\"Person\": {\"resource_template_id\": 5, \"property_id\": 303},\n",
    "    #\"Periodical\": {\"resource_template_id\": 4, \"property_id\": 301},\n",
    "    #\"Article\": {\"resource_template_id\": 12, \"property_id\": 301}\n",
    "}\n",
    "\n",
    "# Here we define the preprocessing functions\n",
    "# The preprocessing functions must return a list\n",
    "# Each element of the list will be a API call (i.e., query)\n",
    "# The results must respect all the queries (AND operation)\n",
    "def name_parts(x):\n",
    "    names = x.split()\n",
    "    names = [a.strip() for a in names]\n",
    "    names = list(filter(lambda a_name: a_name != \"\" or a_name != \",\", names))\n",
    "    return names\n",
    "\n",
    "def article_parts(x):\n",
    "    parts = x.split(\";\")\n",
    "    if len(parts) > 1: \n",
    "        return [parts[0]]\n",
    "    else:\n",
    "        return [x]\n",
    "\n",
    "# each query should take 1 parameter: a column name \n",
    "QUERY = {\n",
    "    # QUERY-1\n",
    "    \"person_name\": lambda col_name, multi_val=None: {\n",
    "        \"query\": lambda val: OMAKE_API_ITEMS+\"?\"+\"resource_template_id=\"+str(OMEKA_VOCAB_MAP[\"Person\"][\"resource_template_id\"])+\"&property[0][property]=\"+str(OMEKA_VOCAB_MAP[\"Person\"][\"property_id\"])+\"&property[0][type]=in\"+\"&property[0][text]=\"+str(val),\n",
    "        \"col_name\": col_name, \n",
    "        \"item_class\": \"Person\",\n",
    "        # in case a preprocessing operation is needed\n",
    "        # if the preprocessing function returns a list, then the query is performed on each value of the list, and the corresponding Omeka item is taken from the results intersection\n",
    "        \"preprocessing\": lambda x: name_parts(x),\n",
    "        \"multivalues\": multi_val,\n",
    "        \"query_id\": \"omeka_person\" \n",
    "    },\n",
    "    \n",
    "    # QUERY-2\n",
    "    \"magazine_title\": lambda col_name, multi_val=None: {\n",
    "        \"query\": lambda val: OMAKE_API_ITEMS+\"?\"+\"resource_template_id=\"+str(OMEKA_VOCAB_MAP[\"Periodical\"][\"resource_template_id\"])+\"&property[0][property]=\"+str(OMEKA_VOCAB_MAP[\"Periodical\"][\"property_id\"])+\"&property[0][type]=eq\"+\"&property[0][text]=\"+str(val),\n",
    "        \"col_name\": col_name, \n",
    "        \"multivalues\": multi_val,\n",
    "        \"item_class\": \"Periodical\",\n",
    "        \"query_id\": \"omeka_magazine\" \n",
    "    },\n",
    "    \n",
    "    # QUERY-3\n",
    "    \"article_title\": lambda col_name, multi_val=None: {\n",
    "        \"query\": lambda val: OMAKE_API_ITEMS+\"?\"+\"resource_template_id=\"+str(OMEKA_VOCAB_MAP[\"Article\"][\"resource_template_id\"])+\"&property[0][property]=\"+str(OMEKA_VOCAB_MAP[\"Article\"][\"property_id\"])+\"&property[0][type]=eq\"+\"&property[0][text]=\"+str(val),\n",
    "        \"col_name\": col_name, \n",
    "        \"multivalues\": multi_val,\n",
    "        \"item_class\": \"Article\",\n",
    "        \"preprocessing\": lambda x: article_parts(x),\n",
    "        \"query_id\": \"omeka_article\"\n",
    "    },\n",
    "     # QUERY-4\n",
    "    \"book_title\": lambda col_name, multi_val=None: {\n",
    "        \"query\": lambda val: OMAKE_API_ITEMS+\"?\"+\"resource_template_id=\"+str(OMEKA_VOCAB_MAP[\"Book\"][\"resource_template_id\"])+\"&property[0][property]=\"+str(OMEKA_VOCAB_MAP[\"Book\"][\"property_id\"])+\"&property[0][type]=eq\"+\"&property[0][text]=\"+str(val),\n",
    "        \"col_name\": col_name, \n",
    "        \"multivalues\": multi_val,\n",
    "        \"item_class\": \"Book\",\n",
    "        \"query_id\": \"omeka_book\"\n",
    "    }\n",
    "}"
   ]
  },
  {
   "cell_type": "markdown",
   "metadata": {},
   "source": [
    "## Inputs \n",
    "### Note: the user should define this section"
   ]
  },
  {
   "cell_type": "code",
   "execution_count": 90,
   "metadata": {},
   "outputs": [],
   "source": [
    "API_KEYS = {\n",
    "    \"key_identity\": \"\",\n",
    "    \"key_credential\": \"\"\n",
    "}\n",
    "\n",
    "# Each table we want to analyze must be specified in a separated block\n",
    "# \"table\": the name used for the generated table\n",
    "# \"source\": the source of the table. Could be a PATH or URL\n",
    "# \"queries\": a list of queries\n",
    "\n",
    "# The avalialble queries are the ones defined in the confg variable QUERY \n",
    "# To insert a query we must specify its name as: QUERY[<key_of_the_query>] (e.g. QUERY[\"person_name\"])\n",
    "# Then specify between brackets the column of the table used as input to the query (e.g. QUERY[\"person_name\"](\"name\"))\n",
    "\n",
    "OPERATIONS = [\n",
    "    {\n",
    "        \"table\": \"authors\",\n",
    "        #\"source\": \"https://raw.githubusercontent.com/palread/import_csv/main/sample/alsharekh%20magazine%20archive%20-%20authors__sample.tsv\",\n",
    "        \"source\": \"sample/alsharekh magazine archive - authors__sample.tsv\", # LOCAL\n",
    "        \"queries\": [\n",
    "            # Between round brackets you must specify: \n",
    "            # name of the column (REQUIRED)\n",
    "            # the string used as separator in case of multiple values (OPTIONAL)  \n",
    "            QUERY[\"person_name\"](\"name\", multi_val=\"_;;_\") \n",
    "        ]\n",
    "    }\n",
    "]"
   ]
  },
  {
   "cell_type": "markdown",
   "metadata": {},
   "source": [
    "## Functions"
   ]
  },
  {
   "cell_type": "code",
   "execution_count": 91,
   "metadata": {},
   "outputs": [],
   "source": [
    "def check_table(operations, output_print=True):\n",
    "    \n",
    "    res_tables = dict()\n",
    "    none_tables_index = dict()\n",
    "    none_tables = dict()\n",
    "    results = dict()\n",
    "    \n",
    "    for entry in operations:\n",
    "        tab_name = entry[\"table\"]\n",
    "        source = entry[\"source\"]\n",
    "        all_queries = entry[\"queries\"]\n",
    "        \n",
    "        res_tables[tab_name] = []\n",
    "        results[tab_name] = {}\n",
    "        \n",
    "        separator ='\\t' if 'tsv' in source else ','\n",
    "        df_table = pd.read_csv(source, error_bad_lines=False, sep=separator, header=0 )\n",
    "        \n",
    "        for df_index, row in df_table.iterrows():\n",
    "            \n",
    "            res_row = row\n",
    "            for query_obj in all_queries:\n",
    "                col_name = query_obj[\"col_name\"]\n",
    "                query_id = query_obj[\"query_id\"]\n",
    "                if query_id not in results[tab_name]:\n",
    "                    results[tab_name][query_id] = {\"in_omeka\": [], \"doubtfull\": [], \"not_in_omeka\":[]}\n",
    "                    \n",
    "                val_base = row[col_name]\n",
    "                if query_obj[\"multivalues\"] != None:\n",
    "                    val_base = val_base.split(query_obj[\"multivalues\"])\n",
    "                else:\n",
    "                    val_base = [val_base]\n",
    "                    \n",
    "                res_row[col_name+\"_omeka\"] = \"\"\n",
    "                for val in val_base:\n",
    "                \n",
    "                    org_val = val\n",
    "                    \n",
    "                    if \"preprocessing\" in query_obj:\n",
    "                        val = query_obj[\"preprocessing\"](val)\n",
    "                    else:\n",
    "                        val = [val]\n",
    "\n",
    "                    api_queries = [] \n",
    "                    for a_val in val:\n",
    "                        api_queries.append(query_obj[\"query\"](a_val))\n",
    "                        \n",
    "                    if output_print: \n",
    "                        print(\"The queries (after preprocessing): \",api_queries)\n",
    "\n",
    "\n",
    "                    # call the API\n",
    "                    dict_results = {}\n",
    "                    query_res_ids = []\n",
    "                    query_flag = True\n",
    "                    for q_index,a_query in enumerate(api_queries):\n",
    "                        response = requests.get(a_query, params=API_KEYS)\n",
    "                        json_results = json.loads(response.content)\n",
    "                        query_flag &= len(json_results) > 0 \n",
    "                        query_res_ids.append(set())\n",
    "                        for a_json_obj in json_results:\n",
    "                            query_res_ids[-1].add(a_json_obj[\"o:id\"])\n",
    "                            dict_results[a_json_obj[\"o:id\"]] = a_json_obj\n",
    "\n",
    "                    if output_print: \n",
    "                        print(\"Queries performed: \"+str(len(api_queries))+\"\\nValues searched: \"+str(val)+ \"\\nResults found (Items ids in Omeka) for each query: \"+ str(query_res_ids))\n",
    "\n",
    "                    # check results\n",
    "                    res_set = None\n",
    "                    if query_flag:\n",
    "                        for s in query_res_ids:\n",
    "                            if res_set == None:\n",
    "                                res_set = s\n",
    "                            else:\n",
    "                                res_set = res_set.intersection(s)\n",
    "                    else:\n",
    "                        res_set = set()\n",
    "\n",
    "                    if output_print: \n",
    "                        print(\"Results intersection: \"+str(res_set)+\"\\n\")\n",
    "\n",
    "                    org_resorce_template_k = query_obj[\"item_class\"]\n",
    "                    if len(res_set) == 0:\n",
    "                        res_row[col_name+\"_omeka\"] += \"NONE\"\n",
    "                        results[tab_name][query_id][\"not_in_omeka\"].append(org_val)\n",
    "\n",
    "                        #insert it also in a separated table\n",
    "                        if org_resorce_template_k not in none_tables:\n",
    "                            none_tables[org_resorce_template_k] = []\n",
    "                            none_tables_index[org_resorce_template_k] = set()\n",
    "\n",
    "                        if org_val not in none_tables_index[org_resorce_template_k]:\n",
    "                            none_tables[org_resorce_template_k].append({\"value\": org_val})\n",
    "\n",
    "                        none_tables_index[org_resorce_template_k].add(org_val)\n",
    "\n",
    "                    elif len(res_set) == 1:\n",
    "                        res_row[col_name+\"_omeka\"] += str(list(res_set)[0])\n",
    "                        results[tab_name][query_id][\"in_omeka\"].append(org_val)                        \n",
    "                    elif len(res_set) > 1:\n",
    "                        res_row[col_name+\"_omeka\"] += \"DOUBTFULL\"\n",
    "                        results[tab_name][query_id][\"doubtfull\"].append(org_val) \n",
    "                    \n",
    "                    res_row[col_name+\"_omeka\"] += \", \"\n",
    "            \n",
    "            res_row[col_name+\"_omeka\"] = res_row[col_name+\"_omeka\"][:-2]\n",
    "            res_tables[tab_name].append(res_row)\n",
    "    \n",
    "        res_tables[tab_name] = pd.DataFrame(res_tables[tab_name])\n",
    "    \n",
    "    for rsc_template in none_tables:\n",
    "        none_tables[rsc_template] = pd.DataFrame(none_tables[rsc_template])\n",
    "    \n",
    "    return (res_tables, none_tables, results)\n",
    "\n",
    "    \n",
    "def create_download_links(res_tables, tab_type):  \n",
    "    str_html = \"\"\n",
    "    # current date and time\n",
    "    now = datetime.now()\n",
    "    timestamp = datetime.timestamp(now)\n",
    "    \n",
    "    for tab_k in res_tables:\n",
    "        df = res_tables[tab_k]\n",
    "        filename = tab_k + \"__\"+str(tab_type)+\"__\"+str(timestamp).replace(\".\",\"_\")+\".tsv\"\n",
    "        title = \"Download the TSV: \"+filename\n",
    "        csv = df.to_csv(index =False)\n",
    "        b64 = base64.b64encode(csv.encode())\n",
    "        payload = b64.decode()\n",
    "        html = '<a download=\"{filename}\" href=\"data:text/csv;base64,{payload}\" target=\"_blank\">{title}</a>'\n",
    "        html = html.format(payload=payload,title=title,filename=filename)\n",
    "        str_html += html + \"<br>\" \n",
    "    return HTML(\"<div>\"+str_html+\"</div>\")\n",
    "\n",
    "\n",
    "def print_stats(results):\n",
    "    for tab in results:\n",
    "        tab_res = results[tab]\n",
    "        print(\"Table: \"+tab)\n",
    "        for q in tab_res:\n",
    "            print(\"  * Query: \"+q)\n",
    "            print(\"    -  A total of \"+str(len(tab_res[q][\"not_in_omeka\"]))+\" items HAVEN'T been found in Omeka: \"+str(tab_res[q][\"not_in_omeka\"]))\n",
    "            print(\"    -  A total of \"+str(len(tab_res[q][\"doubtfull\"]))+\" items are doubtfull (need a manual check): \"+str(tab_res[q][\"doubtfull\"]))\n",
    "            print(\"    -  A total of \"+str(len(tab_res[q][\"in_omeka\"]))+\" items HAVE been found in Omeka: \"+str(tab_res[q][\"in_omeka\"]))\n",
    "            print(\"\\n\")\n",
    "        print(\"\\n\")\n",
    "        "
   ]
  },
  {
   "cell_type": "markdown",
   "metadata": {},
   "source": [
    "## Main"
   ]
  },
  {
   "cell_type": "markdown",
   "metadata": {},
   "source": [
    "### Run"
   ]
  },
  {
   "cell_type": "code",
   "execution_count": 92,
   "metadata": {},
   "outputs": [],
   "source": [
    "res = check_table( OPERATIONS, output_print = False)\n",
    "tabs = res[0]\n",
    "none_tabs = res[1]\n",
    "stats = res[2]"
   ]
  },
  {
   "cell_type": "markdown",
   "metadata": {},
   "source": [
    "### Show results"
   ]
  },
  {
   "cell_type": "code",
   "execution_count": 65,
   "metadata": {},
   "outputs": [
    {
     "name": "stdout",
     "output_type": "stream",
     "text": [
      "Table: article_sample\n",
      "  * Query: omeka_article\n",
      "    -  A total of 5 items HAVEN'T been found in Omeka: ['المرأة العربية في مواجهة العصر;Arab Women and the Age', 'Arab Women and the Age', 'المرأة العربية في مواجهة الع', 'دار الفتى العربي', 'The Project for the Translation of Arabic']\n",
      "    -  A total of 0 items are doubtfull (need a manual check): []\n",
      "    -  A total of 0 items HAVE been found in Omeka: []\n",
      "\n",
      "\n",
      "\n",
      "\n"
     ]
    }
   ],
   "source": [
    "# Print the stats\n",
    "print_stats(stats)"
   ]
  },
  {
   "cell_type": "code",
   "execution_count": 59,
   "metadata": {},
   "outputs": [
    {
     "name": "stdout",
     "output_type": "stream",
     "text": [
      "Download the overview tables\n"
     ]
    },
    {
     "data": {
      "text/html": [
       "<div><a download=\"authors__overview__1618506885_377957.tsv\" href=\"data:text/csv;base64,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\" target=\"_blank\">Download the TSV: authors__overview__1618506885_377957.tsv</a><br></div>"
      ],
      "text/plain": [
       "<IPython.core.display.HTML object>"
      ]
     },
     "execution_count": 59,
     "metadata": {},
     "output_type": "execute_result"
    }
   ],
   "source": [
    "# Create the download links to the generated TSVs\n",
    "print(\"Download the overview tables\")\n",
    "create_download_links(tabs,\"overview\")"
   ]
  },
  {
   "cell_type": "code",
   "execution_count": 60,
   "metadata": {},
   "outputs": [
    {
     "name": "stdout",
     "output_type": "stream",
     "text": [
      "Download the tables for the items not found in Omeka\n"
     ]
    },
    {
     "data": {
      "text/html": [
       "<div><a download=\"Person__new__1618506885_992645.tsv\" href=\"data:text/csv;base64,dmFsdWUK2YbZgtmI2YTYpyDYrdiv2KfYrwrYrNio2LHYpyDYp9io2LHYp9mH2YrZhSDYrNio2LHYpwrYrNio2LHYp9mGINiu2YTZitmEINis2KjYsdin2YYK\" target=\"_blank\">Download the TSV: Person__new__1618506885_992645.tsv</a><br></div>"
      ],
      "text/plain": [
       "<IPython.core.display.HTML object>"
      ]
     },
     "execution_count": 60,
     "metadata": {},
     "output_type": "execute_result"
    }
   ],
   "source": [
    "print(\"Download the tables for the items not found in Omeka\")\n",
    "create_download_links(none_tabs,\"new\")"
   ]
  },
  {
   "cell_type": "code",
   "execution_count": null,
   "metadata": {},
   "outputs": [],
   "source": []
  }
 ],
 "metadata": {
  "kernelspec": {
   "display_name": "Python 3",
   "language": "python",
   "name": "python3"
  },
  "language_info": {
   "codemirror_mode": {
    "name": "ipython",
    "version": 3
   },
   "file_extension": ".py",
   "mimetype": "text/x-python",
   "name": "python",
   "nbconvert_exporter": "python",
   "pygments_lexer": "ipython3",
   "version": "3.8.2"
  }
 },
 "nbformat": 4,
 "nbformat_minor": 4
}
