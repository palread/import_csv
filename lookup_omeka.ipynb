{
 "cells": [
  {
   "cell_type": "markdown",
   "metadata": {},
   "source": [
    "# Omeka Lookup"
   ]
  },
  {
   "cell_type": "markdown",
   "metadata": {},
   "source": [
    "## Imports"
   ]
  },
  {
   "cell_type": "code",
   "execution_count": null,
   "metadata": {},
   "outputs": [],
   "source": [
    "!pip install pandas\n",
    "!pip install requests\n",
    "!pip install numpy"
   ]
  },
  {
   "cell_type": "code",
   "execution_count": 113,
   "metadata": {},
   "outputs": [],
   "source": [
    "import requests\n",
    "import json\n",
    "import csv\n",
    "import pandas as pd\n",
    "from IPython.display import HTML\n",
    "import base64\n",
    "from datetime import datetime\n",
    "import ssl\n",
    "## Use this to fix error \"SSL: CERTIFICATE_VERIFY_FAILED\" \n",
    "ssl._create_default_https_context = ssl._create_unverified_context"
   ]
  },
  {
   "cell_type": "markdown",
   "metadata": {},
   "source": [
    "## Config params \n",
    "### Note: only the configurer should define this section"
   ]
  },
  {
   "cell_type": "code",
   "execution_count": 114,
   "metadata": {},
   "outputs": [],
   "source": [
    "OMEKA_BASE_URL = \"http://137.204.168.11/palread/\"\n",
    "OMEKA_BASE_API = OMEKA_BASE_URL + \"api/\"\n",
    "OMAKE_API_ITEMS = OMEKA_BASE_API + \"items\"\n",
    "OMEKA_VOCAB_MAP = {\n",
    "    \"Person\": {\"resource_template_id\": 5, \"property_id\": 303},\n",
    "    \"Periodical\": {\"resource_template_id\": 4, \"property_id\": 301},\n",
    "    \"Article\": {\"resource_template_id\": 12, \"property_id\": 301}\n",
    "}\n",
    "\n",
    "def name_parts(x):\n",
    "    names = x.split()\n",
    "    names = [a.strip() for a in names]\n",
    "    names = list(filter(lambda a_name: a_name != \"\" or a_name != \",\", names))\n",
    "    return names\n",
    "\n",
    "# each query should take 1 parameter: a column name \n",
    "QUERY = {\n",
    "    # QUERY-1\n",
    "    \"person_name\": lambda col_name: {\n",
    "        \"query\": lambda val: OMAKE_API_ITEMS+\"?\"+\"resource_template_id=\"+str(OMEKA_VOCAB_MAP[\"Person\"][\"resource_template_id\"])+\"&property[0][property]=\"+str(OMEKA_VOCAB_MAP[\"Person\"][\"property_id\"])+\"&property[0][type]=in\"+\"&property[0][text]=\"+str(val),\n",
    "        \"col_name\": col_name, \n",
    "        \"item_class\": \"Person\",\n",
    "        # in case a preprocessing operation is needed\n",
    "        # if the preprocessing function returns a list, then the query is performed on each value of the list, and the corresponding Omeka item is taken from the results intersection\n",
    "        \"preprocessing\": lambda x: name_parts(x),\n",
    "        \"query_id\": \"omeka_person\" \n",
    "    },\n",
    "    \n",
    "    # QUERY-2\n",
    "    \"magazine_title\": lambda col_name: {\n",
    "        \"query\": lambda val: OMAKE_API_ITEMS+\"?\"+\"resource_template_id=\"+str(OMEKA_VOCAB_MAP[\"Periodical\"][\"resource_template_id\"])+\"&property[0][property]=\"+str(OMEKA_VOCAB_MAP[\"Periodical\"][\"property_id\"])+\"&property[0][type]=eq\"+\"&property[0][text]=\"+str(val),\n",
    "        \"col_name\": col_name, \n",
    "        \"item_class\": \"Periodical\",\n",
    "        \"query_id\": \"omeka_magazine\" \n",
    "    },\n",
    "    \n",
    "    # QUERY-3\n",
    "    \"article_title\": lambda col_name: {\n",
    "        \"query\": lambda val: OMAKE_API_ITEMS+\"?\"+\"resource_template_id=\"+str(OMEKA_VOCAB_MAP[\"Article\"][\"resource_template_id\"])+\"&property[0][property]=\"+str(OMEKA_VOCAB_MAP[\"Article\"][\"property_id\"])+\"&property[0][type]=eq\"+\"&property[0][text]=\"+str(val),\n",
    "        \"col_name\": col_name, \n",
    "        \"item_class\": \"Article\",\n",
    "        \"query_id\": \"omeka_article\"\n",
    "    }\n",
    "}"
   ]
  },
  {
   "cell_type": "markdown",
   "metadata": {},
   "source": [
    "## Inputs \n",
    "### Note: the user should define this section"
   ]
  },
  {
   "cell_type": "code",
   "execution_count": 115,
   "metadata": {},
   "outputs": [],
   "source": [
    "API_KEYS = {\n",
    "    \"key_identity\": \"\",\n",
    "    \"key_credential\": \"\"\n",
    "}\n",
    "\n",
    "# Each table we want to analyze must be specified in a separated block\n",
    "# \"table\": the name used for the generated table\n",
    "# \"source\": the source of the table. Could be a PATH or URL\n",
    "# \"queries\": a list of queries\n",
    "\n",
    "# The avalialble queries are the ones defined in the confg variable QUERY \n",
    "# To insert a query we must specify its name as: QUERY[<key_of_the_query>] (e.g. QUERY[\"person_name\"])\n",
    "# Then specify between brackets the column of the table used as input to the query (e.g. QUERY[\"person_name\"](\"name\"))\n",
    "\n",
    "OPERATIONS = [\n",
    "    {\n",
    "        \"table\": \"authors\",\n",
    "        \"source\": \"https://raw.githubusercontent.com/palread/import_csv/main/sample/alsharekh%20magazine%20archive%20-%20authors__sample.tsv\",\n",
    "        # LOCAL\n",
    "        #\"source\": \"sample/alsharekh magazine archive - authors__sample.tsv\",\n",
    "        \"queries\": [\n",
    "            QUERY[\"person_name\"](\"name\") \n",
    "        ]\n",
    "    },\n",
    "    \n",
    "    {\n",
    "        \"table\": \"articles\",\n",
    "        \"source\": \"https://raw.githubusercontent.com/palread/import_csv/main/sample/alsharekh%20magazine%20archive%20-%20articles__sample.tsv\",\n",
    "        # LOCAL\n",
    "        #\"source\": \"sample/alsharekh magazine archive - articles__sample.tsv\",\n",
    "        \"queries\": [\n",
    "            QUERY[\"article_title\"](\"articleTitle\"),\n",
    "            QUERY[\"person_name\"](\"authorName\"),\n",
    "            QUERY[\"magazine_title\"](\"magazineName\")\n",
    "        ]\n",
    "    },\n",
    "    \n",
    "    {\n",
    "        \"table\": \"periodicals\",\n",
    "        \"source\": \"https://raw.githubusercontent.com/palread/import_csv/main/sample/alsharekh%20magazine%20archive%20-%20preiodicals__sample.tsv\",\n",
    "        # LOCAL\n",
    "        #\"source\": \"sample/alsharekh magazine archive - preiodicals__sample.tsv\",\n",
    "        \"queries\": [\n",
    "            QUERY[\"person_name\"](\"editorInChiefID\"),\n",
    "            QUERY[\"magazine_title\"](\"magazineName\")\n",
    "        ]\n",
    "    }\n",
    "]"
   ]
  },
  {
   "cell_type": "markdown",
   "metadata": {},
   "source": [
    "## Functions"
   ]
  },
  {
   "cell_type": "code",
   "execution_count": 116,
   "metadata": {},
   "outputs": [],
   "source": [
    "def check_table(operations, output_print=True):\n",
    "    \n",
    "    res_tables = dict()\n",
    "    none_tables_index = dict()\n",
    "    none_tables = dict()\n",
    "    results = dict()\n",
    "    \n",
    "    for entry in operations:\n",
    "        tab_name = entry[\"table\"]\n",
    "        source = entry[\"source\"]\n",
    "        all_queries = entry[\"queries\"]\n",
    "        \n",
    "        res_tables[tab_name] = []\n",
    "        results[tab_name] = {}\n",
    "        \n",
    "        separator ='\\t' if 'tsv' in source else ','\n",
    "        df_table = pd.read_csv(source, error_bad_lines=False, sep=separator, header=0 )\n",
    "        \n",
    "        for df_index, row in df_table.iterrows():\n",
    "            \n",
    "            res_row = row\n",
    "            for query_obj in all_queries:\n",
    "                query_id = query_obj[\"query_id\"]\n",
    "                if query_id not in results[tab_name]:\n",
    "                    results[tab_name][query_id] = {\"in_omeka\": [], \"doubtfull\": [], \"not_in_omeka\":[]}\n",
    "                    \n",
    "                # prepare the query\n",
    "                val = row[query_obj[\"col_name\"]]\n",
    "                if \"preprocessing\" in query_obj:\n",
    "                    val = query_obj[\"preprocessing\"](val)\n",
    "                else:\n",
    "                    val = [val]\n",
    "\n",
    "                api_queries = [] \n",
    "                for a_val in val:\n",
    "                    api_queries.append(query_obj[\"query\"](a_val))\n",
    "\n",
    "\n",
    "                # call the API\n",
    "                dict_results = {}\n",
    "                query_res_ids = []\n",
    "                query_flag = True\n",
    "                for q_index,a_query in enumerate(api_queries):\n",
    "                    response = requests.get(a_query, params=API_KEYS)\n",
    "                    json_results = json.loads(response.content)\n",
    "                    query_flag &= len(json_results) > 0 \n",
    "                    query_res_ids.append(set())\n",
    "                    for a_json_obj in json_results:\n",
    "                        query_res_ids[-1].add(a_json_obj[\"o:id\"])\n",
    "                        dict_results[a_json_obj[\"o:id\"]] = a_json_obj\n",
    "\n",
    "                if output_print: \n",
    "                    print(\"Queries performed: \"+str(len(api_queries))+\"\\nValues searched: \"+str(val)+ \"\\nResults found (Items ids in Omeka) for each query: \"+ str(query_res_ids))\n",
    "\n",
    "                # check results\n",
    "                res_set = None\n",
    "                if query_flag:\n",
    "                    for s in query_res_ids:\n",
    "                        if res_set == None:\n",
    "                            res_set = s\n",
    "                        else:\n",
    "                            res_set = res_set.intersection(s)\n",
    "                else:\n",
    "                    res_set = set()\n",
    "\n",
    "                if output_print: \n",
    "                    print(\"Results intersection: \"+str(res_set)+\"\\n\")\n",
    "\n",
    "                res_row[query_obj[\"col_name\"]+\"_omeka\"] = \"\"\n",
    "                col_name = query_obj[\"col_name\"]\n",
    "                org_val = row[query_obj[\"col_name\"]]\n",
    "                org_resorce_template_k = query_obj[\"item_class\"]\n",
    "                if len(res_set) == 0:\n",
    "                    res_row[col_name+\"_omeka\"] = \"NONE\"\n",
    "                    results[tab_name][query_id][\"not_in_omeka\"].append(org_val)\n",
    "                        \n",
    "                    #insert it also in a separated table\n",
    "                    if org_resorce_template_k not in none_tables:\n",
    "                        none_tables[org_resorce_template_k] = []\n",
    "                        none_tables_index[org_resorce_template_k] = set()\n",
    "                    \n",
    "                    if org_val not in none_tables_index[org_resorce_template_k]:\n",
    "                        none_tables[org_resorce_template_k].append({\"value\": org_val})\n",
    "                    \n",
    "                    none_tables_index[org_resorce_template_k].add(org_val)\n",
    "                        \n",
    "                elif len(res_set) == 1:\n",
    "                    res_row[col_name+\"_omeka\"] = list(res_set)[0]\n",
    "                    results[tab_name][query_id][\"in_omeka\"].append(org_val)                        \n",
    "                elif len(res_set) > 1:\n",
    "                    res_row[col_name+\"_omeka\"] = \"DOUBTFULL\"\n",
    "                    results[tab_name][query_id][\"doubtfull\"].append(org_val)                        \n",
    "                    \n",
    "            res_tables[tab_name].append(res_row)\n",
    "    \n",
    "        res_tables[tab_name] = pd.DataFrame(res_tables[tab_name])\n",
    "    \n",
    "    for rsc_template in none_tables:\n",
    "        none_tables[rsc_template] = pd.DataFrame(none_tables[rsc_template])\n",
    "    \n",
    "    return (res_tables, none_tables, results)\n",
    "\n",
    "    \n",
    "def create_download_links(res_tables, tab_type):  \n",
    "    str_html = \"\"\n",
    "    # current date and time\n",
    "    now = datetime.now()\n",
    "    timestamp = datetime.timestamp(now)\n",
    "    \n",
    "    for tab_k in res_tables:\n",
    "        df = res_tables[tab_k]\n",
    "        filename = tab_k + \"__\"+str(tab_type)+\"__\"+str(timestamp).replace(\".\",\"_\")+\".tsv\"\n",
    "        title = \"Download the TSV: \"+filename\n",
    "        csv = df.to_csv(index =False)\n",
    "        b64 = base64.b64encode(csv.encode())\n",
    "        payload = b64.decode()\n",
    "        html = '<a download=\"{filename}\" href=\"data:text/csv;base64,{payload}\" target=\"_blank\">{title}</a>'\n",
    "        html = html.format(payload=payload,title=title,filename=filename)\n",
    "        str_html += html + \"<br>\" \n",
    "    return HTML(\"<div>\"+str_html+\"</div>\")\n",
    "\n",
    "\n",
    "def print_stats(results):\n",
    "    for tab in results:\n",
    "        tab_res = results[tab]\n",
    "        print(\"Table: \"+tab)\n",
    "        for q in tab_res:\n",
    "            print(\"  * Query: \"+q)\n",
    "            print(\"    -  A total of \"+str(len(tab_res[q][\"not_in_omeka\"]))+\" items HAVEN'T been found in Omeka: \"+str(tab_res[q][\"not_in_omeka\"]))\n",
    "            print(\"    -  A total of \"+str(len(tab_res[q][\"doubtfull\"]))+\" items are doubtfull (need a manual check): \"+str(tab_res[q][\"doubtfull\"]))\n",
    "            print(\"    -  A total of \"+str(len(tab_res[q][\"in_omeka\"]))+\" items HAVE been found in Omeka: \"+str(tab_res[q][\"in_omeka\"]))\n",
    "            print(\"\\n\")\n",
    "        print(\"\\n\")\n",
    "        "
   ]
  },
  {
   "cell_type": "markdown",
   "metadata": {},
   "source": [
    "## Main"
   ]
  },
  {
   "cell_type": "markdown",
   "metadata": {},
   "source": [
    "### Run"
   ]
  },
  {
   "cell_type": "code",
   "execution_count": 117,
   "metadata": {},
   "outputs": [],
   "source": [
    "res = check_table( OPERATIONS, output_print = False)\n",
    "tabs = res[0]\n",
    "none_tabs = res[1]\n",
    "stats = res[2]"
   ]
  },
  {
   "cell_type": "markdown",
   "metadata": {},
   "source": [
    "### Show results"
   ]
  },
  {
   "cell_type": "code",
   "execution_count": 118,
   "metadata": {},
   "outputs": [],
   "source": [
    "# Print the stats\n",
    "#print_stats(stats)"
   ]
  },
  {
   "cell_type": "code",
   "execution_count": 119,
   "metadata": {},
   "outputs": [
    {
     "name": "stdout",
     "output_type": "stream",
     "text": [
      "Download the overview tables\n"
     ]
    },
    {
     "data": {
      "text/html": [
       "<div><a download=\"authors__overview__1618397271_879022.tsv\" href=\"data:text/csv;base64,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\" target=\"_blank\">Download the TSV: authors__overview__1618397271_879022.tsv</a><br><a download=\"articles__overview__1618397271_879022.tsv\" href=\"data:text/csv;base64,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\" target=\"_blank\">Download the TSV: articles__overview__1618397271_879022.tsv</a><br><a download=\"periodicals__overview__1618397271_879022.tsv\" href=\"data:text/csv;base64,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\" target=\"_blank\">Download the TSV: periodicals__overview__1618397271_879022.tsv</a><br></div>"
      ],
      "text/plain": [
       "<IPython.core.display.HTML object>"
      ]
     },
     "execution_count": 119,
     "metadata": {},
     "output_type": "execute_result"
    }
   ],
   "source": [
    "# Create the download links to the generated TSVs\n",
    "print(\"Download the overview tables\")\n",
    "create_download_links(tabs,\"overview\")"
   ]
  },
  {
   "cell_type": "code",
   "execution_count": 120,
   "metadata": {},
   "outputs": [
    {
     "name": "stdout",
     "output_type": "stream",
     "text": [
      "Download the tables for the items not found in Omeka\n"
     ]
    },
    {
     "data": {
      "text/html": [
       "<div><a download=\"Person__new__1618397274_708213.tsv\" href=\"data:text/csv;base64,dmFsdWUK2YbZgtmI2YTYpyDYrdiv2KfYrwrYrNio2LHYpyDYp9io2LHYp9mH2YrZhSDYrNio2LHYpwrYrNio2LHYp9mGINiu2YTZitmEINis2KjYsdin2YYK2LnYqNivINin2YTZgtin2K/YsSDYp9mE2YLYtwrYrdmF2K8g2KjZhiDYudio2K8g2KfZhNi52LLZitiyINin2YTYs9mI2YrZhNmFCtmC2KfYs9mFINin2YTYstmH2YrYsdmKCtix2KjZiti5INmB2YjYp9iyCtij2K3ZhdivINiy2YPZiiDYo9io2Ygg2LTYp9iv2YoK2YXYrdmF2YjYryDYtdin2YTYrSDYpdiz2YXYp9i52YrZhArYp9mE2LfYp9mH2LEg2KPYrdmF2K8g2YXZg9mKCtmE2KTZiiDYrdmC2YoK2KjZhNiu2YrYsSDYr9in2K/YqSDZhdmI2LPZiQo=\" target=\"_blank\">Download the TSV: Person__new__1618397274_708213.tsv</a><br><a download=\"Article__new__1618397274_708213.tsv\" href=\"data:text/csv;base64,dmFsdWUK2YXZhtin2YLYtNin2KogOiDZgti22YrYqtin2YYg2YHZiiDYp9mE2LnYr9ivINinINmE2KPYrtmK2LEK2KfZhNi02LnYsSDYp9mE2YXYudin2LXYsSDZiNmF2LPYpNmI2YTZitipINin2YTZhtin2YLYrwoi2KfZhNiq2LHYudipICIiINmC2LXYqSAiIiIK2KfZhNmE2LrYqSDZiNin2YTZhNin2YXYudmC2YjZhCDZgdmKINmF2LPYsditINij2YjZhtmK2LPZg9mICtin2YTZhNi62Kkg2YjYp9mE2YTYp9mF2LnZgtmI2YQg2YHZiiDZhdiz2LHYrSDYo9mI2YbZitiz2YPZiCAtINiq2KrZhdipINi12YHYrdipIDI3Ctin2YTYp9iq2KzYp9mHINin2YTYsdmI2KfYptmKINin2YTYrNiv2YrYryDYudmGINmG2KzZitioINmF2K3ZgdmI2LgK2KfZhNin2KrYrNin2Ycg2KfZhNix2YjYp9im2Yog2KfZhNis2K/ZitivINi52YYg2YbYrNmK2Kgg2YXYrdmB2YjYuC0g2KrYqtmF2Kkg2LXZgdit2KkgMjIK2KfZhNiu2LHZitmBINmI2KfZhNiz2YXYp9mGINin2YTYsNmKINmE2YUg2YrYs9mC2LchCtin2YTYrtix2YrZgSDZiNin2YTYs9mF2KfZhiDYp9mE2LDZiiDZhNmFINmK2LPZgti3IS0g2KrYqtmF2Kkg2KfZhNmF2YbYtNmI2LEg2LnZhNmJINin2YTYtdmB2K3YqTIxCtin2YTYo9iv2YrYqCDZiNin2YTYr9mI2YTYqSDZiNmF2YHZh9mI2YUg2KfZhNit2LHZitipCg==\" target=\"_blank\">Download the TSV: Article__new__1618397274_708213.tsv</a><br><a download=\"Periodical__new__1618397274_708213.tsv\" href=\"data:text/csv;base64,dmFsdWUK2KPYqNi52KfYrwrYo9io2LnYp9ivINmB2YPYsdmK2KkK2KPYqNmI2KfYqArYo9io2YjZhNmR2Y/ZiArYo9iv2Kgg2YjZhtmC2K8K2KXYtNmD2KfZhNin2Kog2YHZiiDYp9mE2YTYutipINmI2KfZhNij2K/YqAo=\" target=\"_blank\">Download the TSV: Periodical__new__1618397274_708213.tsv</a><br></div>"
      ],
      "text/plain": [
       "<IPython.core.display.HTML object>"
      ]
     },
     "execution_count": 120,
     "metadata": {},
     "output_type": "execute_result"
    }
   ],
   "source": [
    "print(\"Download the tables for the items not found in Omeka\")\n",
    "create_download_links(none_tabs,\"new\")"
   ]
  },
  {
   "cell_type": "code",
   "execution_count": null,
   "metadata": {},
   "outputs": [],
   "source": []
  }
 ],
 "metadata": {
  "kernelspec": {
   "display_name": "Python 3",
   "language": "python",
   "name": "python3"
  },
  "language_info": {
   "codemirror_mode": {
    "name": "ipython",
    "version": 3
   },
   "file_extension": ".py",
   "mimetype": "text/x-python",
   "name": "python",
   "nbconvert_exporter": "python",
   "pygments_lexer": "ipython3",
   "version": "3.8.2"
  }
 },
 "nbformat": 4,
 "nbformat_minor": 4
}
