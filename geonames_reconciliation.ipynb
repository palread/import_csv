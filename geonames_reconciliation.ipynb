{
 "cells": [
  {
   "cell_type": "markdown",
   "metadata": {},
   "source": [
    "# Geonames reconciliation\n",
    "\n",
    "### run all cells until \"Change here\""
   ]
  },
  {
   "cell_type": "code",
   "execution_count": null,
   "metadata": {},
   "outputs": [],
   "source": [
    "!pip install pandas\n",
    "!pip install requests\n",
    "!pip install numpy"
   ]
  },
  {
   "cell_type": "code",
   "execution_count": 1,
   "metadata": {},
   "outputs": [],
   "source": [
    "import pandas as pd\n",
    "import urllib.parse , requests\n",
    "import numpy as np\n",
    "from IPython.display import HTML\n",
    "import base64  \n",
    "from datetime import datetime"
   ]
  },
  {
   "cell_type": "code",
   "execution_count": 4,
   "metadata": {},
   "outputs": [],
   "source": [
    "def geonames_iri(placename):\n",
    "    iri = ''\n",
    "    if isinstance(placename,str) and len(placename) >1:\n",
    "        pom_url = \"https://palopenmaps.org/api/localities/?search=\"+placename\n",
    "        pomid = None\n",
    "        r = requests.get(pom_url)\n",
    "        if r.status_code == 200:\n",
    "            data = r.json()\n",
    "            if len(data) >= 1:\n",
    "                pomid = data[0][\"id\"]\n",
    "        if pomid:\n",
    "            iri =\"https://palopenmaps.org/api/localities/\"+str(pomid)\n",
    "        else:\n",
    "            geonames_url = 'http://api.geonames.org/search?q='+urllib.parse.quote(placename)+'&fuzzy=0.8&username=palread&type=json'\n",
    "            r = requests.get(geonames_url)\n",
    "            if r.status_code == 200:\n",
    "                data = r.json()\n",
    "                if \"geonames\" in data and len(data[\"geonames\"]) >= 1:\n",
    "                    iri = \"http://www.geonames.org/\"+str(data[\"geonames\"][0][\"geonameId\"])\n",
    "    \n",
    "    return iri\n",
    "\n",
    "def create_download_link( df, title = \"Download CSV file\", filename = \"data.csv\"):  \n",
    "    csv = df.to_csv(index =False)\n",
    "    b64 = base64.b64encode(csv.encode())\n",
    "    payload = b64.decode()\n",
    "    now = datetime.now()\n",
    "    timestamp = datetime.timestamp(now)\n",
    "    html = '<a download=\"{filename}\" href=\"data:text/csv;base64,{payload}\" target=\"_blank\">{title}</a>'\n",
    "    html = html.format(payload=payload,title=title,filename=str(timestamp)+\"_\"+filename)\n",
    "    return HTML(html)\n",
    "\n",
    "\n",
    "\n",
    "# read an online csv, get the specified column \n",
    "def add_geonames(url, geonames_col):\n",
    "    separator ='\\t' if 'tsv' in url else ','\n",
    "    df = pd.read_csv(url, error_bad_lines=False, sep=separator, header=0 )\n",
    "    df.loc[df[geonames_col].isnull(),[geonames_col]] = df.loc[df[geonames_col].isnull(),geonames_col].apply(lambda x: \"\")\n",
    "    places = df[geonames_col].tolist() # query geonames\n",
    "    geonames = [geonames_iri(place) for place in places]\n",
    "    res = [str(j) + ' ' + str(i) for i, j in zip(places, geonames)] \n",
    "    df[geonames_col+'_geonames'] = res # return a new column with the geonames IDs\n",
    "    \n",
    "    # export csv\n",
    "    return create_download_link(df)"
   ]
  },
  {
   "cell_type": "markdown",
   "metadata": {},
   "source": [
    "# Change here"
   ]
  },
  {
   "cell_type": "code",
   "execution_count": 5,
   "metadata": {},
   "outputs": [
    {
     "data": {
      "text/html": [
       "<a download=\"1619075126.637269_data.csv\" href=\"data:text/csv;base64,YXJ0aWNsZUlELGdlb25hbWVzLGFydGljbGVUaXRsZSxhdXRob3JJRCxhdXRob3JOYW1lLGlzc3VlSUQsaXNzdWVEYXRlLHB1YmxpY2F0aW9uIGRhdGUsaXNzdWVOdW1iZXIscGFnZU5vLG1hZ2F6aW5lSUQsbWFnYXppbmVOYW1lLHN1YmplY3QgaXRlbSxzb3VyY2UsaXNzdWVDb3ZlclVSTCxkYXksbW9udGgseWVhcixtb250aF9udW1iZXIsZ2VvbmFtZXNfZ2VvbmFtZXMKMzE3Mjc4LEJvbG9nbmEs2YXZgtmI2YTYqSDYrNmI2YfYsSDYp9mE2KXZhtiz2KfZhiDZgdmKINin2YTZhdin2LHZg9iz2YrYqSwxMzUs2YHZiti12YQg2K/Ysdin2KwsMTQyNzksMSDZhdin2LHYsyAxOTc2LDAxLzAzLzE5NzYsMTY5LDM0LDY0LNin2YTZhdi52LHZgdipLCxodHRwczovL2FyY2hpdmUuYWxzaGFyZWtoLm9yZy9BcnRpY2xlcy82NC8xNDI3OS8zMTcyNzgvMzQsbWFnYXppbmVzQ292ZXJzXEFMX21hYXJlZmguanBnLDEs2YXYp9ix2LMsMTk3NiwzLGh0dHA6Ly93d3cuZ2VvbmFtZXMub3JnLzMxODE5MjggQm9sb2duYQozMTcwNTgsSGFpZmEs2YXZgtmI2YTYqSDYp9mE2KfYutiq2LHYp9ioINmB2Yog2YXYrti32YjYt9in2KogMTg0NCwxMzUs2YHZiti12YQg2K/Ysdin2KwsMTQyOTksMSDZhtmI2YHZhdio2LEgMTk3NywwMS8xMS8xOTc3LDE4OSwxNyw2NCzYp9mE2YXYudix2YHYqSwsaHR0cHM6Ly9hcmNoaXZlLmFsc2hhcmVraC5vcmcvQXJ0aWNsZXMvNjQvMTQyOTkvMzE3MDU4LzE3LG1hZ2F6aW5lc0NvdmVyc1xBTF9tYWFyZWZoLmpwZywxLNmG2YjZgdmF2KjYsSwxOTc3LDExLGh0dHBzOi8vcGFsb3Blbm1hcHMub3JnL2FwaS9sb2NhbGl0aWVzLzI3NjUgSGFpZmEKODc5NDIsTGViYW5vbizYp9mE2KXZhtiq2KfYrCDYp9mE2LHZiNin2KbZiiDZiNin2YTYt9mE2YrYudipINin2YTYo9iv2KjZitipLDEzNSzZgdmK2LXZhCDYr9ix2KfYrCwyOTAxLDEg2YrZhtin2YrYsSAxOTgxLDAxLzAxLzE5ODEsMSwxMTgsMjgs2KfZhNmD2LHZhdmELCxodHRwczovL2FyY2hpdmUuYWxzaGFyZWtoLm9yZy9BcnRpY2xlcy8yOC8yOTAxLzg3OTQyLzExOCxtYWdhemluZXNDb3ZlcnNcQUxfS3JtYWwuanBnLDEs2YrZhtin2YrYsSwxOTgxLDEsaHR0cDovL3d3dy5nZW9uYW1lcy5vcmcvMjcyMTAzIExlYmFub24KODgxNzgsR2F6YSzZgdmKINiv2YTYp9mE2Kkg2KfZhNmG2YLYrywxMzUs2YHZiti12YQg2K/Ysdin2KwsMjkxMCwxINmK2YjZhNmK2YggMTk4MSwwMS8wNy8xOTgxLDIsOTksMjgs2KfZhNmD2LHZhdmELCxodHRwczovL2FyY2hpdmUuYWxzaGFyZWtoLm9yZy9BcnRpY2xlcy8yOC8yOTEwLzg4MTc4Lzk5LG1hZ2F6aW5lc0NvdmVyc1xBTF9Lcm1hbC5qcGcsMSzZitmI2YTZitmILDE5ODEsNyxodHRwczovL3BhbG9wZW5tYXBzLm9yZy9hcGkvbG9jYWxpdGllcy8yNzAyIEdhemEKODg0MTQsTG9uZG9uLNij2YjZh9in2YUg2YjYrdmC2KfYptmCINin2YTZiNin2YLYudmK2Kkg2KfZhNin2LTYqtix2KfZg9mK2KksMTM1LNmB2YrYtdmEINiv2LHYp9isLDI5MjAsMSDZitmG2KfZitixIDE5ODIsMDEvMDEvMTk4MiwzLDkyLDI4LNin2YTZg9ix2YXZhCwsaHR0cHM6Ly9hcmNoaXZlLmFsc2hhcmVraC5vcmcvQXJ0aWNsZXMvMjgvMjkyMC84ODQxNC85MixtYWdhemluZXNDb3ZlcnNcQUxfS3JtYWwuanBnLDEs2YrZhtin2YrYsSwxOTgyLDEsaHR0cDovL3d3dy5nZW9uYW1lcy5vcmcvMjY0Mzc0MyBMb25kb24KODg3ODUsLNin2YTZiNin2YLYudmK2Kkg2KPZhSDYp9mE2YjYp9mC2LksMTM1LNmB2YrYtdmEINiv2LHYp9isLDI5MzksMSDZitmI2YTZitmIIDE5ODIsMDEvMDcvMTk4Miw1LDg1LDI4LNin2YTZg9ix2YXZhCwsaHR0cHM6Ly9hcmNoaXZlLmFsc2hhcmVraC5vcmcvQXJ0aWNsZXMvMjgvMjkzOS84ODc4NS84NSxtYWdhemluZXNDb3ZlcnNcQUxfS3JtYWwuanBnLDEs2YrZiNmE2YrZiCwxOTgyLDcsaHR0cHM6Ly9wYWxvcGVubWFwcy5vcmcvYXBpL2xvY2FsaXRpZXMvNDY5NiAK\" target=\"_blank\">Download CSV file</a>"
      ],
      "text/plain": [
       "<IPython.core.display.HTML object>"
      ]
     },
     "execution_count": 5,
     "metadata": {},
     "output_type": "execute_result"
    }
   ],
   "source": [
    "# 1. change the url of the table \n",
    "# notice the prefix \"https://raw.githubusercontent.com/palread/import_csv/main/\" \n",
    "url = 'https://raw.githubusercontent.com/palread/import_csv/main/alsharekh%20magazine%20archive%20-%20author_sample.tsv'\n",
    "\n",
    "# 2. change the name of the column including a placename\n",
    "geonames_col = 'geonames'\n",
    "\n",
    "# click on Run\n",
    "add_geonames(url, geonames_col)"
   ]
  },
  {
   "cell_type": "code",
   "execution_count": null,
   "metadata": {},
   "outputs": [],
   "source": []
  }
 ],
 "metadata": {
  "kernelspec": {
   "display_name": "Python 3",
   "language": "python",
   "name": "python3"
  },
  "language_info": {
   "codemirror_mode": {
    "name": "ipython",
    "version": 3
   },
   "file_extension": ".py",
   "mimetype": "text/x-python",
   "name": "python",
   "nbconvert_exporter": "python",
   "pygments_lexer": "ipython3",
   "version": "3.8.0"
  }
 },
 "nbformat": 4,
 "nbformat_minor": 4
}
