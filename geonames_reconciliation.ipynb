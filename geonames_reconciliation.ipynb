{
 "cells": [
  {
   "cell_type": "markdown",
   "metadata": {},
   "source": [
    "## Imports"
   ]
  },
  {
   "cell_type": "code",
   "execution_count": 2,
   "metadata": {},
   "outputs": [],
   "source": [
    "import pandas as pd"
   ]
  },
  {
   "cell_type": "markdown",
   "metadata": {},
   "source": [
    "## Main function"
   ]
  },
  {
   "cell_type": "code",
   "execution_count": 6,
   "metadata": {},
   "outputs": [
    {
     "data": {
      "text/plain": [
       "['http://www.geonames.org/3181928',\n",
       " 'http://www.geonames.org/3181928',\n",
       " 'http://www.geonames.org/3181928',\n",
       " 'http://www.geonames.org/3181928',\n",
       " 'http://www.geonames.org/3181928',\n",
       " 'http://www.geonames.org/3181928']"
      ]
     },
     "execution_count": 6,
     "metadata": {},
     "output_type": "execute_result"
    }
   ],
   "source": [
    "# pars: url, geonames_col\n",
    "url = 'https://raw.githubusercontent.com/palread/import_csv/main/alsharekh%20magazine%20archive%20-%20author_sample.tsv?token=ABRE774Q5C3RKKVAD5MERIDAN4PRQ'\n",
    "geonames_col = 'geonames'\n",
    "\n",
    "# read an online csv, get the specified column \n",
    "separator ='\\t' if 'tsv' in url else ','\n",
    "df = pd.read_csv(url, error_bad_lines=False, sep=separator, header=0 )\n",
    "# query geonames\n",
    "places = df[geonames_col].tolist()\n",
    "places\n",
    "\n",
    "# return a new column with the geonames IDs\n",
    "\n",
    "# export csv"
   ]
  },
  {
   "cell_type": "code",
   "execution_count": null,
   "metadata": {},
   "outputs": [],
   "source": []
  }
 ],
 "metadata": {
  "kernelspec": {
   "display_name": "Python 3",
   "language": "python",
   "name": "python3"
  },
  "language_info": {
   "codemirror_mode": {
    "name": "ipython",
    "version": 3
   },
   "file_extension": ".py",
   "mimetype": "text/x-python",
   "name": "python",
   "nbconvert_exporter": "python",
   "pygments_lexer": "ipython3",
   "version": "3.8.0"
  }
 },
 "nbformat": 4,
 "nbformat_minor": 4
}
