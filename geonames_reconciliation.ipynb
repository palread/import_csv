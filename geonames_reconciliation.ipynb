{
 "cells": [
  {
   "cell_type": "markdown",
   "metadata": {},
   "source": [
    "## Imports"
   ]
  },
  {
   "cell_type": "code",
   "execution_count": 1,
   "metadata": {},
   "outputs": [],
   "source": [
    "import pandas as pd\n",
    "import urllib.parse , requests\n",
    "import numpy as np\n",
    "from IPython.display import HTML\n",
    "import base64  "
   ]
  },
  {
   "cell_type": "markdown",
   "metadata": {},
   "source": [
    "## Main function"
   ]
  },
  {
   "cell_type": "code",
   "execution_count": 5,
   "metadata": {},
   "outputs": [],
   "source": [
    "def geonames_iri(placename):\n",
    "    iri = ''\n",
    "    if isinstance(placename,str):\n",
    "        geonames_url = 'http://api.geonames.org/search?q='+urllib.parse.quote(placename)+'&fuzzy=0.8&username=palread&type=json'\n",
    "        r = requests.get(geonames_url)\n",
    "        if r.status_code == 200:\n",
    "            data = r.json()\n",
    "            iri = \"http://www.geonames.org/\"+str(data[\"geonames\"][0][\"geonameId\"])\n",
    "    \n",
    "    return iri\n",
    "\n",
    "def create_download_link( df, title = \"Download CSV file\", filename = \"data.csv\"):  \n",
    "    csv = df.to_csv(index =False)\n",
    "    b64 = base64.b64encode(csv.encode())\n",
    "    payload = b64.decode()\n",
    "    html = '<a download=\"{filename}\" href=\"data:text/csv;base64,{payload}\" target=\"_blank\">{title}</a>'\n",
    "    html = html.format(payload=payload,title=title,filename=filename)\n",
    "    return HTML(html)\n",
    "\n",
    "\n",
    "\n",
    "# read an online csv, get the specified column \n",
    "def add_geonames(url, geonames_col):\n",
    "    separator ='\\t' if 'tsv' in url else ','\n",
    "    df = pd.read_csv(url, error_bad_lines=False, sep=separator, header=0 )\n",
    "    # query geonames\n",
    "    places = df[geonames_col].tolist()\n",
    "    geonames = [geonames_iri(place) for place in places]\n",
    "\n",
    "    # return a new column with the geonames IDs\n",
    "    df[geonames_col+'_geonames'] = geonames\n",
    "\n",
    "    # export csv\n",
    "    return create_download_link(df)"
   ]
  },
  {
   "cell_type": "code",
   "execution_count": 6,
   "metadata": {},
   "outputs": [
    {
     "data": {
      "text/html": [
       "<a download=\"data.csv\" href=\"data:text/csv;base64,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\" target=\"_blank\">Download CSV file</a>"
      ],
      "text/plain": [
       "<IPython.core.display.HTML object>"
      ]
     },
     "execution_count": 6,
     "metadata": {},
     "output_type": "execute_result"
    }
   ],
   "source": [
    "# change url of the table, and the name of the column including places\n",
    "url = 'https://raw.githubusercontent.com/palread/import_csv/main/alsharekh%20magazine%20archive%20-%20author_sample.tsv?token=ABRE777S3SL6HYO4DW3YGBTAN44HE'\n",
    "geonames_col = 'geonames'\n",
    "\n",
    "# run\n",
    "add_geonames(url, geonames_col)"
   ]
  },
  {
   "cell_type": "code",
   "execution_count": null,
   "metadata": {},
   "outputs": [],
   "source": []
  }
 ],
 "metadata": {
  "kernelspec": {
   "display_name": "Python 3",
   "language": "python",
   "name": "python3"
  },
  "language_info": {
   "codemirror_mode": {
    "name": "ipython",
    "version": 3
   },
   "file_extension": ".py",
   "mimetype": "text/x-python",
   "name": "python",
   "nbconvert_exporter": "python",
   "pygments_lexer": "ipython3",
   "version": "3.8.0"
  }
 },
 "nbformat": 4,
 "nbformat_minor": 4
}
