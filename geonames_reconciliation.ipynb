{
 "cells": [
  {
   "cell_type": "markdown",
   "metadata": {},
   "source": [
    "## Imports"
   ]
  },
  {
   "cell_type": "code",
   "execution_count": null,
   "metadata": {},
   "outputs": [],
   "source": [
    "!pip install pandas\n",
    "!pip install requests\n",
    "!pip install numpy"
   ]
  },
  {
   "cell_type": "code",
   "execution_count": 1,
   "metadata": {},
   "outputs": [],
   "source": [
    "import pandas as pd\n",
    "import urllib.parse , requests\n",
    "import numpy as np\n",
    "from IPython.display import HTML\n",
    "import base64  "
   ]
  },
  {
   "cell_type": "markdown",
   "metadata": {},
   "source": [
    "## Main function"
   ]
  },
  {
   "cell_type": "code",
   "execution_count": 35,
   "metadata": {},
   "outputs": [],
   "source": [
    "def geonames_iri(placename):\n",
    "    iri = ''\n",
    "    if isinstance(placename,str):\n",
    "        geonames_url = 'http://api.geonames.org/search?q='+urllib.parse.quote(placename)+'&fuzzy=0.8&username=palread&type=json'\n",
    "        r = requests.get(geonames_url)\n",
    "        if r.status_code == 200:\n",
    "            data = r.json()\n",
    "            if \"geonames\" in data and len(data[\"geonames\"]) >= 1:\n",
    "                iri = \"http://www.geonames.org/\"+str(data[\"geonames\"][0][\"geonameId\"])\n",
    "    \n",
    "    return iri\n",
    "\n",
    "def create_download_link( df, title = \"Download CSV file\", filename = \"data.csv\"):  \n",
    "    csv = df.to_csv(index =False)\n",
    "    b64 = base64.b64encode(csv.encode())\n",
    "    payload = b64.decode()\n",
    "    html = '<a download=\"{filename}\" href=\"data:text/csv;base64,{payload}\" target=\"_blank\">{title}</a>'\n",
    "    html = html.format(payload=payload,title=title,filename=filename)\n",
    "    return HTML(html)\n",
    "\n",
    "\n",
    "\n",
    "# read an online csv, get the specified column \n",
    "def add_geonames(url, geonames_col):\n",
    "    separator ='\\t' if 'tsv' in url else ','\n",
    "    df = pd.read_csv(url, error_bad_lines=False, sep=separator, header=0 )\n",
    "    df.loc[df[geonames_col].isnull(),[geonames_col]] = df.loc[df[geonames_col].isnull(),geonames_col].apply(lambda x: \"\")\n",
    "    places = df[geonames_col].tolist() # query geonames\n",
    "    geonames = [geonames_iri(place) for place in places]\n",
    "    res = [str(j) + ' ' + str(i) for i, j in zip(places, geonames)] \n",
    "    df[geonames_col+'_geonames'] = res # return a new column with the geonames IDs\n",
    "\n",
    "    # export csv\n",
    "    return create_download_link(df)"
   ]
  },
  {
   "cell_type": "code",
   "execution_count": 36,
   "metadata": {},
   "outputs": [
    {
     "name": "stdout",
     "output_type": "stream",
     "text": [
      "['Bologna', 'Haifa', 'Lebanon', 'Gaza', 'London', ''] ['http://www.geonames.org/3181928', 'http://www.geonames.org/294801', 'http://www.geonames.org/272103', 'http://www.geonames.org/281133', 'http://www.geonames.org/2643743', '']\n"
     ]
    },
    {
     "data": {
      "text/html": [
       "<a download=\"data.csv\" href=\"data:text/csv;base64,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\" target=\"_blank\">Download CSV file</a>"
      ],
      "text/plain": [
       "<IPython.core.display.HTML object>"
      ]
     },
     "execution_count": 36,
     "metadata": {},
     "output_type": "execute_result"
    }
   ],
   "source": [
    "# change url of the table, and the name of the column including places\n",
    "url = 'https://raw.githubusercontent.com/palread/import_csv/main/alsharekh%20magazine%20archive%20-%20author_sample.tsv'\n",
    "geonames_col = 'geonames'\n",
    "\n",
    "# run\n",
    "add_geonames(url, geonames_col)"
   ]
  }
 ],
 "metadata": {
  "kernelspec": {
   "display_name": "Python 3",
   "language": "python",
   "name": "python3"
  },
  "language_info": {
   "codemirror_mode": {
    "name": "ipython",
    "version": 3
   },
   "file_extension": ".py",
   "mimetype": "text/x-python",
   "name": "python",
   "nbconvert_exporter": "python",
   "pygments_lexer": "ipython3",
   "version": "3.8.0"
  }
 },
 "nbformat": 4,
 "nbformat_minor": 4
}
