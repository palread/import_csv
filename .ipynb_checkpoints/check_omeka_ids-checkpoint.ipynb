{
 "cells": [
  {
   "cell_type": "markdown",
   "metadata": {},
   "source": [
    "## Imports"
   ]
  },
  {
   "cell_type": "code",
   "execution_count": 201,
   "metadata": {},
   "outputs": [],
   "source": [
    "import requests\n",
    "import json\n",
    "import csv\n",
    "import pandas as pd\n",
    "from IPython.display import HTML\n",
    "import base64"
   ]
  },
  {
   "cell_type": "markdown",
   "metadata": {},
   "source": [
    "## Config params – only the configurer should define this section"
   ]
  },
  {
   "cell_type": "code",
   "execution_count": 202,
   "metadata": {},
   "outputs": [],
   "source": [
    "API_KEYS = {\n",
    "    \"key_identity\": \"4iNoLCQW8QAtfTf4OudZaujaAmnHyQVd\",\n",
    "    \"key_credential\": \"eeUuqkTlrJrH2pBUeXIVgwj823DtfABX\"\n",
    "}\n",
    "\n",
    "OMEKA_BASE_URL = \"http://137.204.168.11/palread/\"\n",
    "OMEKA_BASE_API = OMEKA_BASE_URL + \"api/\"\n",
    "OMAKE_API_ITEMS = OMEKA_BASE_API + \"items\"\n",
    "OMEKA_VOCAB_MAP = {\n",
    "    \"Person\": {\"resource_template_id\": 5, \"property_id\": 303},\n",
    "    \"Periodical\": {\"resource_template_id\": 4, \"property_id\": 301},\n",
    "    \"Article\": {\"resource_template_id\": 12, \"property_id\": 301}\n",
    "}\n",
    "\n",
    "def name_parts(x):\n",
    "    names = x.split()\n",
    "    names = [a.strip() for a in names]\n",
    "    names = list(filter(lambda a_name: a_name != \"\" or a_name != \",\", names))\n",
    "    return names\n",
    "\n",
    "QUERY = {\n",
    "    \"person_name\": lambda col_name: {\n",
    "        \"query\": lambda val: OMAKE_API_ITEMS+\"?\"+\"resource_template_id=\"+str(OMEKA_VOCAB_MAP[\"Person\"][\"resource_template_id\"])+\"&property[0][property]=\"+str(OMEKA_VOCAB_MAP[\"Person\"][\"property_id\"])+\"&property[0][type]=in\"+\"&property[0][text]=\"+str(val),\n",
    "        \"col_name\": col_name, \n",
    "        \"item_class\": \"Person\",\n",
    "        \"preprocessing\": lambda x: name_parts(x),\n",
    "        \"query_id\": \"omeka_person\" \n",
    "    },\n",
    "    \"magazine_title\": lambda col_name: {\n",
    "        \"query\": lambda val: OMAKE_API_ITEMS+\"?\"+\"resource_template_id=\"+str(OMEKA_VOCAB_MAP[\"Periodical\"][\"resource_template_id\"])+\"&property[0][property]=\"+str(OMEKA_VOCAB_MAP[\"Periodical\"][\"property_id\"])+\"&property[0][type]=eq\"+\"&property[0][text]=\"+str(val),\n",
    "        \"col_name\": col_name, \n",
    "        \"item_class\": \"Periodical\",\n",
    "        \"query_id\": \"omeka_magazine\" \n",
    "    },\n",
    "    \"article_title\": lambda col_name: {\n",
    "        \"query\": lambda val: OMAKE_API_ITEMS+\"?\"+\"resource_template_id=\"+str(OMEKA_VOCAB_MAP[\"Article\"][\"resource_template_id\"])+\"&property[0][property]=\"+str(OMEKA_VOCAB_MAP[\"Article\"][\"property_id\"])+\"&property[0][type]=eq\"+\"&property[0][text]=\"+str(val),\n",
    "        \"col_name\": col_name, \n",
    "        \"item_class\": \"Article\",\n",
    "        \"query_id\": \"omeka_article\"\n",
    "    }\n",
    "}"
   ]
  },
  {
   "cell_type": "markdown",
   "metadata": {},
   "source": [
    "## Functions"
   ]
  },
  {
   "cell_type": "code",
   "execution_count": 203,
   "metadata": {},
   "outputs": [],
   "source": [
    "def check_table(operations, output_print=True):\n",
    "    \n",
    "    res_tables = dict()\n",
    "    results = dict()\n",
    "    \n",
    "    for tab_key in operations:\n",
    "        res_tables[tab_key] = []\n",
    "        results[tab_key] = {}\n",
    "        with open(tab_key) as tsv_file:\n",
    "            reader = csv.DictReader(tsv_file, delimiter='\\t')\n",
    "            for row in reader:\n",
    "                \n",
    "                all_queries = operations[tab_key]\n",
    "                res_row = row\n",
    "                for query_obj in all_queries:\n",
    "                    query_id = query_obj[\"query_id\"]\n",
    "                    if query_id not in results[tab_key]:\n",
    "                        results[tab_key][query_id] = {\"in_omeka\": [], \"doubtfull\": [], \"not_in_omeka\":[]}\n",
    "                    \n",
    "                    # prepare the query\n",
    "                    val = row[query_obj[\"col_name\"]]\n",
    "                    if \"preprocessing\" in query_obj:\n",
    "                        val = query_obj[\"preprocessing\"](val)\n",
    "                    else:\n",
    "                        val = [val]\n",
    "\n",
    "                    api_queries = [] \n",
    "                    for a_val in val:\n",
    "                        api_queries.append(query_obj[\"query\"](a_val))\n",
    "\n",
    "\n",
    "                    # call the API\n",
    "                    dict_results = {}\n",
    "                    query_res_ids = []\n",
    "                    query_flag = True\n",
    "                    for q_index,a_query in enumerate(api_queries):\n",
    "                        response = requests.get(a_query, params=API_KEYS)\n",
    "                        json_results = json.loads(response.content)\n",
    "                        query_flag &= len(json_results) > 0 \n",
    "                        query_res_ids.append(set())\n",
    "                        for a_json_obj in json_results:\n",
    "                            query_res_ids[-1].add(a_json_obj[\"o:id\"])\n",
    "                            dict_results[a_json_obj[\"o:id\"]] = a_json_obj\n",
    "\n",
    "                    if output_print: \n",
    "                        print(\"Queries performed: \"+str(len(api_queries))+\"\\nValues searched: \"+str(val)+ \"\\nResults found (Items ids in Omeka) for each query: \"+ str(query_res_ids))\n",
    "\n",
    "                    # check results\n",
    "                    res_set = None\n",
    "                    if query_flag:\n",
    "                        for s in query_res_ids:\n",
    "                            if res_set == None:\n",
    "                                res_set = s\n",
    "                            else:\n",
    "                                res_set = res_set.intersection(s)\n",
    "                    else:\n",
    "                        res_set = set()\n",
    "\n",
    "                    if output_print: \n",
    "                        print(\"Results intersection: \"+str(res_set)+\"\\n\")\n",
    "\n",
    "                    res_row[query_obj[\"col_name\"]+\"_omeka\"] = \"\"\n",
    "                    if len(res_set) == 0:\n",
    "                        res_row[query_obj[\"col_name\"]+\"_omeka\"] = \"NONE\"\n",
    "                        results[tab_key][query_id][\"not_in_omeka\"].append(row[query_obj[\"col_name\"]])\n",
    "                    elif len(res_set) == 1:\n",
    "                        res_row[query_obj[\"col_name\"]+\"_omeka\"] = list(res_set)[0]\n",
    "                        results[tab_key][query_id][\"in_omeka\"].append(row[query_obj[\"col_name\"]])                        \n",
    "                    elif len(res_set) > 1:\n",
    "                        res_row[query_obj[\"col_name\"]+\"_omeka\"] = \"DOUBTFULL\"\n",
    "                        results[tab_key][query_id][\"doubtfull\"].append(row[query_obj[\"col_name\"]])                        \n",
    "                    \n",
    "                res_tables[tab_key].append(res_row)\n",
    "        \n",
    "        res_tables[tab_key] = pd.DataFrame(res_tables[tab_key])\n",
    "    \n",
    "    return (res_tables, results)\n",
    "\n",
    "    \n",
    "def create_download_links(res_tables):  \n",
    "    str_html = \"\"\n",
    "    for tab in res_tables:\n",
    "        df = res_tables[tab]\n",
    "        filename = tab.replace(\".tsv\",\"__omekaids.tsv\")\n",
    "        title = \"Download the TSV: \"+filename\n",
    "        csv = df.to_csv(index =False)\n",
    "        b64 = base64.b64encode(csv.encode())\n",
    "        payload = b64.decode()\n",
    "        html = '<a download=\"{filename}\" href=\"data:text/csv;base64,{payload}\" target=\"_blank\">{title}</a>'\n",
    "        html = html.format(payload=payload,title=title,filename=filename)\n",
    "        str_html += html + \"<br>\" \n",
    "    return HTML(\"<div>\"+str_html+\"</div>\")\n",
    "\n",
    "\n",
    "def print_stats(results):\n",
    "    for tab in results:\n",
    "        tab_res = results[tab]\n",
    "        print(\"Table: \"+tab)\n",
    "        for q in tab_res:\n",
    "            print(\"  * Query: \"+q)\n",
    "            print(\"    -  A total of \"+str(len(tab_res[q][\"not_in_omeka\"]))+\" items HAVEN'T been found in Omeka: \"+str(tab_res[q][\"not_in_omeka\"]))\n",
    "            print(\"    -  A total of \"+str(len(tab_res[q][\"doubtfull\"]))+\" items are doubtfull (need a manual check): \"+str(tab_res[q][\"doubtfull\"]))\n",
    "            print(\"    -  A total of \"+str(len(tab_res[q][\"in_omeka\"]))+\" items HAVE been found in Omeka: \"+str(tab_res[q][\"in_omeka\"]))\n",
    "            print(\"\\n\")\n",
    "        print(\"\\n\")"
   ]
  },
  {
   "cell_type": "markdown",
   "metadata": {},
   "source": [
    "## Inputs – the user should define this section"
   ]
  },
  {
   "cell_type": "code",
   "execution_count": 204,
   "metadata": {},
   "outputs": [],
   "source": [
    "# <path_to_the_TSV_table>: [a list of queries]\n",
    "\n",
    "# Each table we want to analyze must be specified in a separated key\n",
    "# The value of each key is a list of queries \n",
    "# The avalialble queries are the ones defined in the confg variable QUERY \n",
    "# To insert a query we must specify its name as: QUERY[<key_of_the_query>] (e.g. QUERY[\"person_name\"])\n",
    "# Then specify between brackets the column of the table used as input to the query (e.g. QUERY[\"person_name\"](\"name\"))\n",
    "\n",
    "OPERATIONS = {\n",
    "    \"../part2/sample/alsharekh magazine archive - authors__sample.tsv\":[\n",
    "        QUERY[\"person_name\"](\"name\") \n",
    "    ],\n",
    "    \"../part2/sample/alsharekh magazine archive - articles__sample.tsv\":[\n",
    "        QUERY[\"article_title\"](\"articleTitle\"),\n",
    "        QUERY[\"person_name\"](\"authorName\"),\n",
    "        QUERY[\"magazine_title\"](\"magazineName\")\n",
    "    ],\n",
    "    \"../part2/sample/alsharekh magazine archive - preiodicals__sample.tsv\":[\n",
    "        QUERY[\"person_name\"](\"editorInChiefID\"),\n",
    "        QUERY[\"magazine_title\"](\"magazineName\")\n",
    "    ]\n",
    "}"
   ]
  },
  {
   "cell_type": "markdown",
   "metadata": {},
   "source": [
    "## Main"
   ]
  },
  {
   "cell_type": "markdown",
   "metadata": {},
   "source": [
    "### Run"
   ]
  },
  {
   "cell_type": "code",
   "execution_count": 205,
   "metadata": {},
   "outputs": [],
   "source": [
    "res = check_table( OPERATIONS, output_print = False)\n",
    "stats = res[1]\n",
    "tabs = res[0]"
   ]
  },
  {
   "cell_type": "markdown",
   "metadata": {},
   "source": [
    "### Show results"
   ]
  },
  {
   "cell_type": "code",
   "execution_count": 206,
   "metadata": {},
   "outputs": [
    {
     "name": "stdout",
     "output_type": "stream",
     "text": [
      "Table: ../part2/sample/alsharekh magazine archive - authors__sample.tsv\n",
      "  * Query: omeka_person\n",
      "    -  A total of 3 items HAVEN'T been found in Omeka: ['نقولا حداد', 'جبرا ابراهيم جبرا', 'جبران خليل جبران']\n",
      "    -  A total of 1 items are doubtfull (need a manual check): ['محمود درويش']\n",
      "    -  A total of 6 items HAVE been found in Omeka: ['صبري حافظ', 'فدوى طوقان', 'إدوارد سعيد', 'سعدي يوسف', 'ميخائيل نعيمة', 'فيصل دراج']\n",
      "\n",
      "\n",
      "\n",
      "\n",
      "Table: ../part2/sample/alsharekh magazine archive - articles__sample.tsv\n",
      "  * Query: omeka_article\n",
      "    -  A total of 10 items HAVEN'T been found in Omeka: ['مناقشات : قضيتان في العدد ا لأخير', 'الشعر المعاصر ومسؤولية الناقد', 'الترعة \" قصة \"', 'اللغة واللامعقول في مسرح أونيسكو', 'اللغة واللامعقول في مسرح أونيسكو - تتمة صفحة 27', 'الاتجاه الروائي الجديد عن نجيب محفوظ', 'الاتجاه الروائي الجديد عن نجيب محفوظ- تتمة صفحة 22', 'الخريف والسمان الذي لم يسقط!', 'الخريف والسمان الذي لم يسقط!- تتمة المنشور على الصفحة21', 'الأديب والدولة ومفهوم الحرية']\n",
      "    -  A total of 0 items are doubtfull (need a manual check): []\n",
      "    -  A total of 0 items HAVE been found in Omeka: []\n",
      "\n",
      "\n",
      "  * Query: omeka_person\n",
      "    -  A total of 0 items HAVEN'T been found in Omeka: []\n",
      "    -  A total of 0 items are doubtfull (need a manual check): []\n",
      "    -  A total of 10 items HAVE been found in Omeka: ['صبري حافظ', 'صبري حافظ', 'صبري حافظ', 'صبري حافظ', 'صبري حافظ', 'صبري حافظ', 'صبري حافظ', 'صبري حافظ', 'صبري حافظ', 'صبري حافظ']\n",
      "\n",
      "\n",
      "  * Query: omeka_magazine\n",
      "    -  A total of 0 items HAVEN'T been found in Omeka: []\n",
      "    -  A total of 0 items are doubtfull (need a manual check): []\n",
      "    -  A total of 10 items HAVE been found in Omeka: ['الآداب', 'الآداب', 'الأديب', 'الآداب', 'الآداب', 'الآداب', 'الآداب', 'الآداب', 'الآداب', 'الآداب']\n",
      "\n",
      "\n",
      "\n",
      "\n",
      "Table: ../part2/sample/alsharekh magazine archive - preiodicals__sample.tsv\n",
      "  * Query: omeka_person\n",
      "    -  A total of 9 items HAVEN'T been found in Omeka: ['عبد القادر القط', 'حمد بن عبد العزيز السويلم', 'قاسم الزهيري', 'ربيع فواز', 'أحمد زكي أبو شادي', 'محمود صالح إسماعيل', 'الطاهر أحمد مكي', 'لؤي حقي', 'بلخير دادة موسى']\n",
      "    -  A total of 0 items are doubtfull (need a manual check): []\n",
      "    -  A total of 1 items HAVE been found in Omeka: ['يوسف الخال']\n",
      "\n",
      "\n",
      "  * Query: omeka_magazine\n",
      "    -  A total of 6 items HAVEN'T been found in Omeka: ['أبعاد', 'أبعاد فكرية', 'أبواب', 'أبولُّو', 'أدب ونقد', 'إشكالات في اللغة والأدب']\n",
      "    -  A total of 0 items are doubtfull (need a manual check): []\n",
      "    -  A total of 4 items HAVE been found in Omeka: ['إبداع', 'آداب الرافدين', 'أدب', 'أسفار']\n",
      "\n",
      "\n",
      "\n",
      "\n",
      "Download the new TSV tables (with the corresponding Omeka ids)\n"
     ]
    },
    {
     "data": {
      "text/html": [
       "<div><a download=\"../part2/sample/alsharekh magazine archive - authors__sample__omekaids.tsv\" href=\"data:text/csv;base64,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\" target=\"_blank\">Download the TSV: ../part2/sample/alsharekh magazine archive - authors__sample__omekaids.tsv</a><br><a download=\"../part2/sample/alsharekh magazine archive - articles__sample__omekaids.tsv\" href=\"data:text/csv;base64,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\" target=\"_blank\">Download the TSV: ../part2/sample/alsharekh magazine archive - articles__sample__omekaids.tsv</a><br><a download=\"../part2/sample/alsharekh magazine archive - preiodicals__sample__omekaids.tsv\" href=\"data:text/csv;base64,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\" target=\"_blank\">Download the TSV: ../part2/sample/alsharekh magazine archive - preiodicals__sample__omekaids.tsv</a><br></div>"
      ],
      "text/plain": [
       "<IPython.core.display.HTML object>"
      ]
     },
     "execution_count": 206,
     "metadata": {},
     "output_type": "execute_result"
    }
   ],
   "source": [
    "# Print the stats\n",
    "print_stats(stats)\n",
    "\n",
    "# Create the download links to the generated TSVs\n",
    "print(\"Download the new TSV tables (with the corresponding Omeka ids)\")\n",
    "create_download_links(tabs)"
   ]
  },
  {
   "cell_type": "code",
   "execution_count": null,
   "metadata": {},
   "outputs": [],
   "source": []
  }
 ],
 "metadata": {
  "kernelspec": {
   "display_name": "Python 3",
   "language": "python",
   "name": "python3"
  },
  "language_info": {
   "codemirror_mode": {
    "name": "ipython",
    "version": 3
   },
   "file_extension": ".py",
   "mimetype": "text/x-python",
   "name": "python",
   "nbconvert_exporter": "python",
   "pygments_lexer": "ipython3",
   "version": "3.8.2"
  }
 },
 "nbformat": 4,
 "nbformat_minor": 4
}
