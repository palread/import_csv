{
 "cells": [
  {
   "cell_type": "markdown",
   "metadata": {},
   "source": [
    "## Imports"
   ]
  },
  {
   "cell_type": "code",
   "execution_count": 102,
   "metadata": {},
   "outputs": [],
   "source": [
    "import requests\n",
    "import json\n",
    "import csv\n",
    "import pandas as pd\n",
    "from IPython.display import HTML\n",
    "import base64"
   ]
  },
  {
   "cell_type": "markdown",
   "metadata": {},
   "source": [
    "## Config params"
   ]
  },
  {
   "cell_type": "code",
   "execution_count": 130,
   "metadata": {},
   "outputs": [],
   "source": [
    "API_KEYS = {\n",
    "    \"key_identity\": \"4iNoLCQW8QAtfTf4OudZaujaAmnHyQVd\",\n",
    "    \"key_credential\": \"eeUuqkTlrJrH2pBUeXIVgwj823DtfABX\"\n",
    "}\n",
    "\n",
    "OMEKA_BASE_URL = \"http://137.204.168.11/palread/\"\n",
    "OMEKA_BASE_API = OMEKA_BASE_URL + \"api/\"\n",
    "OMAKE_API_ITEMS = OMEKA_BASE_API + \"items\"\n",
    "OMEKA_VOCAB_MAP = {\n",
    "    \"Person\": {\"resource_template_id\": 5, \"property_id\": 303},\n",
    "    \"Periodical\": {\"resource_template_id\": 4, \"property_id\": 301},\n",
    "    \"Article\": {\"resource_template_id\": 12, \"property_id\": 301}\n",
    "}\n",
    "\n",
    "def name_parts(x):\n",
    "    names = x.split()\n",
    "    names = [a.strip() for a in names]\n",
    "    names = list(filter(lambda a_name: a_name != \"\" or a_name != \",\", names))\n",
    "    return names\n",
    "\n",
    "QUERY = {\n",
    "    \"person_name\": lambda col_name: {\n",
    "        \"query\": lambda val: OMAKE_API_ITEMS+\"?\"+\"resource_template_id=\"+str(OMEKA_VOCAB_MAP[\"Person\"][\"resource_template_id\"])+\"&property[0][property]=\"+str(OMEKA_VOCAB_MAP[item_class][\"property_id\"])+\"&property[0][type]=in\"+\"&property[0][text]=\"+str(val),\n",
    "        \"col_name\": col_name, \n",
    "        \"item_class\": \"Person\",\n",
    "        \"preprocessing\": lambda x: name_parts(x),\n",
    "        \"query_id\": \"omeka_person\" \n",
    "    },\n",
    "    \"magazine_title\": lambda col_name: {\n",
    "        \"query\": lambda val: OMAKE_API_ITEMS+\"?\"+\"resource_template_id=\"+str(OMEKA_VOCAB_MAP[\"Periodical\"][\"resource_template_id\"])+\"&property[0][property]=\"+str(OMEKA_VOCAB_MAP[item_class][\"property_id\"])+\"&property[0][type]=eq\"+\"&property[0][text]=\"+str(val),\n",
    "        \"col_name\": col_name, \n",
    "        \"item_class\": \"Periodical\",\n",
    "        \"query_id\": \"omeka_magazine\" \n",
    "    },\n",
    "    \"article_title\": lambda col_name: {\n",
    "        \"query\": lambda val: OMAKE_API_ITEMS+\"?\"+\"resource_template_id=\"+str(OMEKA_VOCAB_MAP[\"Article\"][\"resource_template_id\"])+\"&property[0][property]=\"+str(OMEKA_VOCAB_MAP[item_class][\"property_id\"])+\"&property[0][type]=eq\"+\"&property[0][text]=\"+str(val),\n",
    "        \"col_name\": col_name, \n",
    "        \"item_class\": \"Article\",\n",
    "        \"query_id\": \"omeka_article\"\n",
    "    }\n",
    "}"
   ]
  },
  {
   "cell_type": "markdown",
   "metadata": {},
   "source": [
    "## Functions"
   ]
  },
  {
   "cell_type": "code",
   "execution_count": 171,
   "metadata": {},
   "outputs": [],
   "source": [
    "def check_table(operations, output_print=True):\n",
    "    \n",
    "    res_tables = dict()\n",
    "    results = dict()\n",
    "    \n",
    "    for tab_key in operations:\n",
    "        res_tables[tab_key] = []\n",
    "        results[tab_key] = {}\n",
    "        with open(tab_key) as tsv_file:\n",
    "            reader = csv.DictReader(tsv_file, delimiter='\\t')\n",
    "            for row in reader:\n",
    "                \n",
    "                all_queries = operations[tab_key]\n",
    "                res_row = row\n",
    "                for query_obj in all_queries:\n",
    "                    query_id = query_obj[\"query_id\"]\n",
    "                    if query_id not in results[tab_key]:\n",
    "                        results[tab_key][query_id] = {\"in_omeka\": [], \"doubtfull\": [], \"not_in_omeka\":[]}\n",
    "                    \n",
    "                    # prepare the query\n",
    "                    val = row[query_obj[\"col_name\"]]\n",
    "                    if \"preprocessing\" in query_obj:\n",
    "                        val = query_obj[\"preprocessing\"](val)\n",
    "                    else:\n",
    "                        val = [val]\n",
    "\n",
    "                    api_queries = [] \n",
    "                    for a_val in val:\n",
    "                        api_queries.append(query_obj[\"query\"](a_val))\n",
    "\n",
    "\n",
    "                    # call the API\n",
    "                    dict_results = {}\n",
    "                    query_res_ids = []\n",
    "                    query_flag = True\n",
    "                    for q_index,a_query in enumerate(api_queries):\n",
    "                        response = requests.get(a_query, params=API_KEYS)\n",
    "                        json_results = json.loads(response.content)\n",
    "                        query_flag &= len(json_results) > 0 \n",
    "                        query_res_ids.append(set())\n",
    "                        for a_json_obj in json_results:\n",
    "                            query_res_ids[-1].add(a_json_obj[\"o:id\"])\n",
    "                            dict_results[a_json_obj[\"o:id\"]] = a_json_obj\n",
    "\n",
    "                    if output_print: \n",
    "                        print(\"Queries performed: \"+str(len(api_queries))+\"\\nValues searched: \"+str(val)+ \"\\nResults found (Items ids in Omeka) for each query: \"+ str(query_res_ids))\n",
    "\n",
    "                    # check results\n",
    "                    if query_flag:\n",
    "                        res_set = None\n",
    "                        for s in query_res_ids:\n",
    "                            if res_set == None:\n",
    "                                res_set = s\n",
    "                            else:\n",
    "                                res_set = res_set.intersection(s)\n",
    "\n",
    "                    if output_print: \n",
    "                        print(\"Results intersection: \"+str(res_set)+\"\\n\")\n",
    "\n",
    "                    res_row[query_obj[\"col_name\"]+\"_omeka\"] = \"\"\n",
    "                    if len(res_set) == 0:\n",
    "                        res_row[query_obj[\"col_name\"]+\"_omeka\"] = \"NONE\"\n",
    "                        results[tab_key][query_id][\"not_in_omeka\"].append(row[query_obj[\"col_name\"]])\n",
    "                    elif len(res_set) == 1:\n",
    "                        res_row[query_obj[\"col_name\"]+\"_omeka\"] = list(res_set)[0]\n",
    "                        results[tab_key][query_id][\"in_omeka\"].append(row[query_obj[\"col_name\"]])                        \n",
    "                    elif len(res_set) > 1:\n",
    "                        res_row[query_obj[\"col_name\"]+\"_omeka\"] = \"DOUBTFULL\"\n",
    "                        results[tab_key][query_id][\"doubtfull\"].append(row[query_obj[\"col_name\"]])                        \n",
    "                    \n",
    "                res_tables[tab_key].append(res_row)\n",
    "        \n",
    "        res_tables[tab_key] = pd.DataFrame(res_tables[tab_key])\n",
    "    \n",
    "    return (res_tables, results)\n",
    "\n",
    "    \n",
    "def create_download_link(res_tables):  \n",
    "    str_html = \"\"\n",
    "    for tab in res_tables:\n",
    "        df = res_tables[tab]\n",
    "        filename = tab.replace(\".tsv\",\"__omekaids.tsv\")\n",
    "        title = \"Download the TSV: \"+filename\n",
    "        csv = df.to_csv(index =False)\n",
    "        b64 = base64.b64encode(csv.encode())\n",
    "        payload = b64.decode()\n",
    "        html = '<a download=\"{filename}\" href=\"data:text/csv;base64,{payload}\" target=\"_blank\">{title}</a>'\n",
    "        html = html.format(payload=payload,title=title,filename=filename)\n",
    "        str_html += html + \"<br>\" \n",
    "    return HTML(\"<div>\"+str_html+\"</div>\")\n",
    "\n",
    "\n",
    "def print_stats(results):\n",
    "    for tab in results:\n",
    "        tab_res = results[tab]\n",
    "        print(\"Table: \"+tab)\n",
    "        for q in tab_res:\n",
    "            print(\"  * Query: \"+q)\n",
    "            print(\"    -  A total of \"+str(len(tab_res[q][\"not_in_omeka\"]))+\" items HAVEN'T been found in Omeka: \"+str(tab_res[q][\"not_in_omeka\"]))\n",
    "            print(\"    -  A total of \"+str(len(tab_res[q][\"doubtfull\"]))+\" items are doubtfull (need a manual check): \"+str(tab_res[q][\"doubtfull\"]))\n",
    "            print(\"    -  A total of \"+str(len(tab_res[q][\"in_omeka\"]))+\" items HAVE been found in Omeka: \"+str(tab_res[q][\"in_omeka\"]))\n",
    "            print(\"\\n\")\n",
    "        print(\"\\n\")"
   ]
  },
  {
   "cell_type": "markdown",
   "metadata": {},
   "source": [
    "## Inputs – this is the only part that should be defined by the user\n",
    "#### *TSV_TABLE*: the path to the TSV table which needs to be checked\n",
    "#### *COLUMN_TO_CHECK*: the column of the TSV table used to identify its records\n",
    "#### *ITEM_CLASS*: the class of items stored in the TSV table"
   ]
  },
  {
   "cell_type": "code",
   "execution_count": 156,
   "metadata": {},
   "outputs": [],
   "source": [
    "# USER INPUTS\n",
    "\n",
    "# <path to the table>: [a list of queries] \n",
    "OPERATIONS = {\n",
    "    #\"alsharekh magazine archive - author_sample.tsv\":[\n",
    "    #    QUERY[\"person_name\"](\"authorName\") \n",
    "    #],\n",
    "    \"alsharekh magazine archive - authors list.tsv\":[\n",
    "        QUERY[\"person_name\"](\"authorName\") \n",
    "    ],\n",
    "    \"alsharekh magazine archive - articles.tsv\":[\n",
    "        QUERY[\"article_title\"](\"articleTitle\"),\n",
    "        QUERY[\"person_name\"](\"authorName\"),\n",
    "        QUERY[\"magazine_title\"](\"magazineName\")\n",
    "    ],\n",
    "    \"alsharekh magazine archive - preiodicals.tsv\":[\n",
    "        QUERY[\"person_name\"](\"editorInChiefID\"),\n",
    "        QUERY[\"magazine_title\"](\"magazineName\")\n",
    "    ]\n",
    "}\n"
   ]
  },
  {
   "cell_type": "markdown",
   "metadata": {},
   "source": [
    "## Main"
   ]
  },
  {
   "cell_type": "code",
   "execution_count": 174,
   "metadata": {},
   "outputs": [
    {
     "name": "stdout",
     "output_type": "stream",
     "text": [
      "Table: alsharekh magazine archive - author_sample.tsv\n",
      "  * Query: omeka_author\n",
      "    -  A total of 0 items HAVEN'T been found in Omeka: []\n",
      "    -  A total of 0 items are doubtfull (need a manual check): []\n",
      "    -  A total of 6 items HAVE been found in Omeka: ['فيصل دراج', 'فيصل دراج', 'فيصل دراج', 'فيصل دراج', 'فيصل دراج', 'فيصل دراج']\n",
      "\n",
      "\n",
      "\n",
      "\n",
      "\n",
      "Download the new TSV tables (with the corresponding Omeka ids)\n"
     ]
    },
    {
     "data": {
      "text/html": [
       "<div><a download=\"alsharekh magazine archive - author_sample__omekaids.tsv\" href=\"data:text/csv;base64,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\" target=\"_blank\">Download the TSV: alsharekh magazine archive - author_sample__omekaids.tsv</a><br></div>"
      ],
      "text/plain": [
       "<IPython.core.display.HTML object>"
      ]
     },
     "execution_count": 174,
     "metadata": {},
     "output_type": "execute_result"
    }
   ],
   "source": [
    "res = check_table( OPERATIONS, output_print = False)\n",
    "\n",
    "print_stats(res[1])\n",
    "\n",
    "print(\"\\nDownload the new TSV tables (with the corresponding Omeka ids)\")\n",
    "create_download_link(res[0])"
   ]
  },
  {
   "cell_type": "code",
   "execution_count": null,
   "metadata": {},
   "outputs": [],
   "source": []
  }
 ],
 "metadata": {
  "kernelspec": {
   "display_name": "Python 3",
   "language": "python",
   "name": "python3"
  },
  "language_info": {
   "codemirror_mode": {
    "name": "ipython",
    "version": 3
   },
   "file_extension": ".py",
   "mimetype": "text/x-python",
   "name": "python",
   "nbconvert_exporter": "python",
   "pygments_lexer": "ipython3",
   "version": "3.8.2"
  }
 },
 "nbformat": 4,
 "nbformat_minor": 4
}
